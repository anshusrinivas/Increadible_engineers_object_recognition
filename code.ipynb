{
 "cells": [
  {
   "cell_type": "code",
   "execution_count": 11,
   "metadata": {},
   "outputs": [],
   "source": [
    "from imutils.video import VideoStream\n",
    "import numpy as np\n",
    "import sys\n",
    "import argparse\n",
    "import imutils\n",
    "import time\n",
    "import cv2\n",
    "from urllib.request import urlopen"
   ]
  },
  {
   "cell_type": "code",
   "execution_count": 8,
   "metadata": {},
   "outputs": [],
   "source": [
    "prototxt=\"MobileNetSSD_deploy.prototxt.txt\"\n",
    "model=\"MobileNetSSD_deploy.prototxt.txt\"\n",
    "source=\"webcam\"\n",
    "confidence=0.2\n",
    "CLASSES = [\"background\", \n",
    "\t\t   \"aeroplane\", \n",
    "\t\t   \"bicycle\", \n",
    "\t\t   \"bird\", \n",
    "\t\t   \"boat\",\n",
    "\t\t\t\"bottle\", \n",
    "\t\t\t\"bus\", \n",
    "\t\t\t\"car\", \n",
    "\t\t\t\"cat\", \n",
    "\t\t\t\"chair\",\n",
    "\t\t\t\"cow\", \n",
    "\t\t\t\"dining table\",\n",
    "\t\t\t\"dog\",\n",
    "\t\t\t\"horse\", \n",
    "\t\t\t\"motor bike\", \n",
    "\t\t\t\"person\", \n",
    "\t\t\t\"plant\", \n",
    "\t\t\t\"sheep\",\n",
    "\t\t\t\"sofa\", \n",
    "\t\t\t\"train\", \n",
    "\t\t\t\"tv or monitor\"] # list of items model is trained on\n",
    "\n",
    "COLORS = np.random.uniform(0, 255, size=(len(CLASSES), 3))# choose random colour for box\n"
   ]
  },
  {
   "cell_type": "code",
   "execution_count": 10,
   "metadata": {},
   "outputs": [
    {
     "name": "stdout",
     "output_type": "stream",
     "text": [
      "[INFORMATION] loading model...\n"
     ]
    },
    {
     "ename": "error",
     "evalue": "OpenCV(4.10.0) D:\\a\\opencv-python\\opencv-python\\opencv\\modules\\dnn\\src\\caffe\\caffe_io.cpp:1176: error: (-2:Unspecified error) FAILED: ReadProtoFromBinaryFile(param_file, param). Failed to parse NetParameter file: MobileNetSSD_deploy.prototxt.txt in function 'cv::dnn::ReadNetParamsFromBinaryFileOrDie'\n",
     "output_type": "error",
     "traceback": [
      "\u001b[1;31m---------------------------------------------------------------------------\u001b[0m",
      "\u001b[1;31merror\u001b[0m                                     Traceback (most recent call last)",
      "Cell \u001b[1;32mIn[10], line 2\u001b[0m\n\u001b[0;32m      1\u001b[0m \u001b[38;5;28mprint\u001b[39m(\u001b[38;5;124m\"\u001b[39m\u001b[38;5;124m[INFORMATION] loading model...\u001b[39m\u001b[38;5;124m\"\u001b[39m)\n\u001b[1;32m----> 2\u001b[0m model \u001b[38;5;241m=\u001b[39m \u001b[43mcv2\u001b[49m\u001b[38;5;241;43m.\u001b[39;49m\u001b[43mdnn\u001b[49m\u001b[38;5;241;43m.\u001b[39;49m\u001b[43mreadNetFromCaffe\u001b[49m\u001b[43m(\u001b[49m\u001b[43mprototxt\u001b[49m\u001b[43m,\u001b[49m\u001b[43m \u001b[49m\u001b[43mmodel\u001b[49m\u001b[43m)\u001b[49m\n\u001b[0;32m      3\u001b[0m \u001b[38;5;28mprint\u001b[39m(\u001b[38;5;124m\"\u001b[39m\u001b[38;5;124m[INFORMATION] Model initialisation successful :)\u001b[39m\u001b[38;5;124m\"\u001b[39m)\n\u001b[0;32m      5\u001b[0m \u001b[38;5;28mprint\u001b[39m(\u001b[38;5;124m\"\u001b[39m\u001b[38;5;124m[INFORMATION] starting video stream...\u001b[39m\u001b[38;5;124m\"\u001b[39m)\n",
      "\u001b[1;31merror\u001b[0m: OpenCV(4.10.0) D:\\a\\opencv-python\\opencv-python\\opencv\\modules\\dnn\\src\\caffe\\caffe_io.cpp:1176: error: (-2:Unspecified error) FAILED: ReadProtoFromBinaryFile(param_file, param). Failed to parse NetParameter file: MobileNetSSD_deploy.prototxt.txt in function 'cv::dnn::ReadNetParamsFromBinaryFileOrDie'\n"
     ]
    }
   ],
   "source": [
    "print(\"[INFORMATION] loading model...\")\n",
    "model = cv2.dnn.readNetFromCaffe(prototxt, model)\n",
    "print(\"[INFORMATION] Model initialisation successful :)\")\n",
    "\n",
    "print(\"[INFORMATION] starting video stream...\")\n",
    "\n",
    "if source == \"webcam\":\n",
    "\tvideo_src = cv2.VideoCapture(0)\n",
    "\n",
    "time.sleep(2.0) # delay 2 seconds to initialize the camera sensor\n",
    "\n",
    "print(\"[INFORMAION] Camera initialised :)\")\n"
   ]
  }
 ],
 "metadata": {
  "kernelspec": {
   "display_name": "obj",
   "language": "python",
   "name": "python3"
  },
  "language_info": {
   "codemirror_mode": {
    "name": "ipython",
    "version": 3
   },
   "file_extension": ".py",
   "mimetype": "text/x-python",
   "name": "python",
   "nbconvert_exporter": "python",
   "pygments_lexer": "ipython3",
   "version": "3.11.9"
  }
 },
 "nbformat": 4,
 "nbformat_minor": 2
}
